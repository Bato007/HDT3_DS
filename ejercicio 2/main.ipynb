{
 "cells": [
  {
   "cell_type": "code",
   "execution_count": null,
   "metadata": {},
   "outputs": [],
   "source": [
    "import pandas as pd\n",
    "import numpy as np\n",
    "import matplotlib.pyplot as plt\n",
    "import statsmodels.tsa as tsa\n",
    "import statsmodels as sm\n",
    "from datetime import datetime\n",
    "import os\n",
    "from statsmodels.tsa.seasonal import seasonal_decompose\n",
    "from statsmodels.tsa.stattools import adfuller\n",
    "import tensorflow as tf\n",
    "from sklearn.preprocessing import StandardScaler\n",
    "from keras.models import Sequential\n",
    "from keras.layers import Dense\n",
    "from keras.layers import LSTM\n",
    "from statsmodels.tsa.statespace.sarimax import SARIMAX\n",
    "from sklearn.metrics import mean_squared_error\n",
    "from statsmodels.tools.eval_measures import rmse\n"
   ]
  },
  {
   "cell_type": "code",
   "execution_count": null,
   "metadata": {},
   "outputs": [],
   "source": [
    "label_regular = 'Gasolina regular'"
   ]
  },
  {
   "cell_type": "code",
   "execution_count": null,
   "metadata": {},
   "outputs": [],
   "source": [
    "dfToUse = \"consumo\"\n",
    "\n",
    "def returnQuantRows(dfToUse):\n",
    "    if (dfToUse == 'consumo'):\n",
    "        return 269 \n",
    "    return 257\n",
    "\n",
    "toUse = returnQuantRows(dfToUse)"
   ]
  },
  {
   "cell_type": "code",
   "execution_count": null,
   "metadata": {},
   "outputs": [],
   "source": [
    "df = pd.read_excel(dfToUse+'.xlsx', engine='openpyxl')\n",
    "df = df[['Fecha', label_regular]]"
   ]
  },
  {
   "cell_type": "code",
   "execution_count": null,
   "metadata": {},
   "outputs": [],
   "source": [
    "df = df[:toUse]\n",
    "df['Fecha'] = pd.to_datetime(df['Fecha'])"
   ]
  },
  {
   "cell_type": "code",
   "execution_count": null,
   "metadata": {},
   "outputs": [],
   "source": [
    "quant_vars = [label_regular]\n",
    "df[quant_vars].astype(float).describe()"
   ]
  },
  {
   "cell_type": "markdown",
   "metadata": {},
   "source": [
    "# Modelo ARIMA -de la hoja pasada-"
   ]
  },
  {
   "cell_type": "markdown",
   "metadata": {},
   "source": [
    "### Separando test y train"
   ]
  },
  {
   "cell_type": "code",
   "execution_count": null,
   "metadata": {},
   "outputs": [],
   "source": [
    "rows = len(df)\n",
    "train_df = df[0:rows-17] # 2000-01-01 a 2020-12-01\n",
    "test_df = df[rows-17:] # 2021-01-01\t a 2022-05-01\t\n",
    "print(len(train_df), len(test_df))"
   ]
  },
  {
   "cell_type": "code",
   "execution_count": null,
   "metadata": {},
   "outputs": [],
   "source": [
    "def make_timeline(column):\n",
    "  plt.rcParams[\"figure.figsize\"] = (20,5.5)\n",
    "  mediaGasoline = train_df[column].rolling(window=12).mean()\n",
    "  deGasoline = train_df[column].rolling(window=12).std()\n",
    "\n",
    "  original = plt.plot(train_df[column], color=\"blue\", label=\"Original\")\n",
    "  media = plt.plot(mediaGasoline, color='red', label = 'Media ' + dfToUse)\n",
    "  ds = plt.plot(deGasoline, color='black', label = 'Desviación Estándar ' + dfToUse)\n",
    "  plt.legend(loc = 'best')\n",
    "  plt.title('Media y desviación estándar ' + column)\n",
    "  plt.show(block=False)"
   ]
  },
  {
   "cell_type": "code",
   "execution_count": null,
   "metadata": {},
   "outputs": [],
   "source": [
    "make_timeline(label_regular)"
   ]
  },
  {
   "cell_type": "code",
   "execution_count": null,
   "metadata": {},
   "outputs": [],
   "source": [
    "train_regular = train_df[['Fecha', label_regular]]\n",
    "test_regular = test_df[['Fecha', label_regular]]\n",
    "\n",
    "# Gasolina regular\n",
    "train_regular[label_regular] = train_regular[label_regular].astype(float)\n",
    "train_regular_indexed = train_regular.set_index(['Fecha'])\n",
    "\n",
    "######### TEST ###############\n",
    "# Gasolina regular\n",
    "test_regular[label_regular] = test_regular[label_regular].astype(float)\n",
    "test_regular_indexed = test_regular.set_index(['Fecha'])"
   ]
  },
  {
   "cell_type": "code",
   "execution_count": null,
   "metadata": {},
   "outputs": [],
   "source": [
    "# 2000-01-01 a 2019-12-01\n",
    "removeCovid = 240\n",
    "train_regular_indexed = train_regular_indexed[0:removeCovid]\n",
    "train_regular_gas = train_regular_indexed[label_regular]"
   ]
  },
  {
   "cell_type": "code",
   "execution_count": null,
   "metadata": {},
   "outputs": [],
   "source": [
    "train_regular_log = np.log(train_regular_gas)\n",
    "plt.plot(train_regular_log)"
   ]
  },
  {
   "cell_type": "markdown",
   "metadata": {},
   "source": [
    "## Test de Dickey Fuller "
   ]
  },
  {
   "cell_type": "code",
   "execution_count": null,
   "metadata": {},
   "outputs": [],
   "source": [
    "train_regular_gas_log_diff = train_regular_gas.diff()\n",
    "train_regular_gas_log_diff.dropna(inplace=True)"
   ]
  },
  {
   "cell_type": "code",
   "execution_count": null,
   "metadata": {},
   "outputs": [],
   "source": [
    "plt.plot(train_regular_gas_log_diff)"
   ]
  },
  {
   "cell_type": "markdown",
   "metadata": {},
   "source": [
    "## Mejor modelo ARIMA 221"
   ]
  },
  {
   "cell_type": "code",
   "execution_count": null,
   "metadata": {},
   "outputs": [],
   "source": [
    "seasonalOrder = 3\n",
    "if (dfToUse == \"importacion\"):\n",
    "  seasonalOrder = 0\n",
    "\n",
    "model_regular_121 = SARIMAX(\n",
    "  train_regular_log,\n",
    "  order=(1,2,1),\n",
    "  seasonal_order=(seasonalOrder,1,0,12),\n",
    "  enforce_stationarity=False,\n",
    "  enforce_invertibility=False\n",
    ")\n",
    "resultado_regular_121 = model_regular_121.fit()\n",
    "print(resultado_regular_121.summary().tables[1])"
   ]
  },
  {
   "cell_type": "code",
   "execution_count": null,
   "metadata": {},
   "outputs": [],
   "source": [
    "resultado_regular_121.plot_diagnostics(figsize=(18, 8))\n",
    "plt.show()"
   ]
  },
  {
   "cell_type": "markdown",
   "metadata": {},
   "source": [
    "## Prediccion"
   ]
  },
  {
   "cell_type": "code",
   "execution_count": null,
   "metadata": {},
   "outputs": [],
   "source": [
    "df_regular_indexed = df[['Fecha', label_regular]]\n",
    "df_regular_indexed =  df_regular_indexed.set_index(['Fecha'])"
   ]
  },
  {
   "cell_type": "code",
   "execution_count": null,
   "metadata": {},
   "outputs": [],
   "source": [
    "def checkModel(prediction, test_indexed, label):\n",
    "  pred = prediction.get_prediction(\n",
    "    start=test_indexed.index[0],\n",
    "    end=test_indexed.index[-1],\n",
    "  ).summary_frame(alpha=0.05)\n",
    "\n",
    "  fig, ax = plt.subplots(figsize=(15,5))\n",
    "  test_log = np.log(test_indexed[label])\n",
    "  ax = test_log.plot(label='Test Data')\n",
    "  ax.set(\n",
    "      title='True and Predicted Values, with Confidence Intervals',\n",
    "      xlabel='Date',\n",
    "      ylabel='Actual / Predicted Values'\n",
    "  )\n",
    "\n",
    "  pred['mean'].plot(ax=ax, style='r', label='Predicted Mean')\n",
    "  ax.fill_between(\n",
    "      pred.index, pred['mean_ci_lower'], pred['mean_ci_upper'],\n",
    "      color='r', alpha=0.1\n",
    "  )\n",
    "  legend = ax.legend(loc='upper left')\n",
    "  plt.show()\n",
    "  return pred"
   ]
  },
  {
   "cell_type": "code",
   "execution_count": null,
   "metadata": {},
   "outputs": [],
   "source": [
    "arimaPred = checkModel(resultado_regular_121, test_regular_indexed, label_regular)"
   ]
  },
  {
   "cell_type": "markdown",
   "metadata": {},
   "source": [
    "# LSTM\n"
   ]
  },
  {
   "cell_type": "code",
   "execution_count": null,
   "metadata": {},
   "outputs": [],
   "source": [
    "tf.random.set_seed(123)"
   ]
  },
  {
   "cell_type": "markdown",
   "metadata": {},
   "source": [
    "### Test de Dickey Fuller"
   ]
  },
  {
   "cell_type": "code",
   "execution_count": null,
   "metadata": {},
   "outputs": [],
   "source": [
    "indexed_df = df.set_index(['Fecha'])"
   ]
  },
  {
   "cell_type": "code",
   "execution_count": null,
   "metadata": {},
   "outputs": [],
   "source": [
    "print('Resultados del Test de Dickey Fuller')\n",
    "dfTest = adfuller(indexed_df, autolag='AIC')\n",
    "salidaDf = pd.Series(dfTest[0:4], index=['Estadístico de prueba','p-value','# de retardos usados','# de observaciones usadas'])\n",
    "for key,value in dfTest[4].items():\n",
    "        salidaDf['Critical Value (%s)'%key] = value\n",
    "print(salidaDf)"
   ]
  },
  {
   "cell_type": "code",
   "execution_count": null,
   "metadata": {},
   "outputs": [],
   "source": [
    "regular_diff = indexed_df.diff()\n",
    "regular_diff.fillna(0,inplace=True)\n",
    "dfTest = adfuller(regular_diff)\n",
    "salidaDf = pd.Series(dfTest[0:4], index=['Estadístico de prueba','p-value','# de retardos usados','# de observaciones usadas'])\n",
    "for key,value in dfTest[4].items():\n",
    "        salidaDf['Critical Value (%s)'%key] = value\n",
    "print(salidaDf)"
   ]
  },
  {
   "cell_type": "code",
   "execution_count": null,
   "metadata": {},
   "outputs": [],
   "source": [
    "plt.plot(regular_diff)"
   ]
  },
  {
   "cell_type": "markdown",
   "metadata": {},
   "source": [
    "### Normalizando la serie"
   ]
  },
  {
   "cell_type": "code",
   "execution_count": null,
   "metadata": {},
   "outputs": [],
   "source": [
    "scaler = StandardScaler()\n",
    "regular_diff_scaled = scaler.fit_transform(regular_diff) \n",
    "regular_diff_scaled[1:7]"
   ]
  },
  {
   "cell_type": "markdown",
   "metadata": {},
   "source": [
    "### Separando train y test"
   ]
  },
  {
   "cell_type": "code",
   "execution_count": null,
   "metadata": {},
   "outputs": [],
   "source": [
    "rows = len(regular_diff_scaled)\n",
    "train = regular_diff_scaled[0:rows-17] # 2000-01-01 a 2020-12-01\n",
    "test = regular_diff_scaled[rows-17:] # 2021-01-01\t a 2022-05-01\t\n",
    "train=np.insert(train,0,0)\n",
    "train=np.reshape(train,(train.shape[0],1))\n",
    "print(len(train), len(test))\n"
   ]
  },
  {
   "cell_type": "markdown",
   "metadata": {},
   "source": [
    "### Serie supervisada"
   ]
  },
  {
   "cell_type": "code",
   "execution_count": null,
   "metadata": {},
   "outputs": [],
   "source": [
    "# Corriendo los valores una posicion\n",
    "from operator import concat\n",
    "\n",
    "\n",
    "def supervisada(serie,retrasos = 1):\n",
    "    serie_x = []\n",
    "    serie_y = []\n",
    "    for i in range(len(serie)-retrasos):\n",
    "        valor = serie[i:(i+retrasos),0]\n",
    "        valor_sig = serie[i+retrasos,0]\n",
    "        serie_x.append(valor)\n",
    "        serie_y.append(valor_sig)\n",
    "    return np.array(serie_x), np.array(serie_y)\n",
    "\n",
    "x_train,y_train = supervisada(train)\n",
    "x_test,y_test = supervisada(test)\n",
    "\n"
   ]
  },
  {
   "cell_type": "markdown",
   "metadata": {},
   "source": [
    "\n",
    "### Creando el modelo\n",
    "Para que pueda hacerse el modelo se le tiene que suministrar una matriz de 3 dimensiones siendo estas:\n",
    "- ***Muestras:*** número de observaciones en cada lote, también conocido como tamaño del lote.\n",
    "- ***Pasos de tiempo:*** Pasos de tiempo separados para una observación dada. En este ejemplo los pasos de tiempo = 1\n",
    "- ***Características:*** Para un caso univariante, como en este ejemplo, las características = 1  "
   ]
  },
  {
   "cell_type": "code",
   "execution_count": null,
   "metadata": {},
   "outputs": [],
   "source": [
    "x_train = np.reshape(x_train,(x_train.shape[0],1,1))\n",
    "x_test = np.reshape(x_test, (x_test.shape[0],1,1))"
   ]
  },
  {
   "cell_type": "code",
   "execution_count": null,
   "metadata": {},
   "outputs": [],
   "source": [
    "def createModel(lote, paso, caracteristicas=1, dense=1):\n",
    "    modelo = Sequential()\n",
    "    modelo.add(LSTM(lote, batch_input_shape=(lote,paso,caracteristicas),stateful=True))\n",
    "    modelo.add(Dense(dense))\n",
    "    modelo.summary()\n",
    "    \n",
    "    modelo.compile(loss='mean_squared_error',optimizer=\"rmsprop\")\n",
    "\n",
    "    return modelo\n",
    "\n",
    "\n",
    "def graphLoss(history):\n",
    "    plt.plot(history.history['loss'])\n",
    "    plt.plot(history.history['val_loss'])\n",
    "    plt.title('model loss')\n",
    "    plt.ylabel('loss')\n",
    "    plt.xlabel('epoch')\n",
    "    plt.legend(['train', 'val'], loc='center')\n",
    "\n",
    "def showLoss(modelo):\n",
    "    print(\"Pérdida en Entrenamiento\")\n",
    "    modelo.evaluate(\n",
    "        x = x_train,\n",
    "        y = y_train\n",
    "    )\n",
    "    print(\"Pérdida en Validación\")\n",
    "    modelo.evaluate(\n",
    "        x = x_val,\n",
    "        y = y_val\n",
    "    )\n",
    "    print(\"Pérdida en Prueba\")\n",
    "    modelo.evaluate(\n",
    "        x = x_test,\n",
    "        y = y_test\n",
    "    )"
   ]
  },
  {
   "cell_type": "code",
   "execution_count": null,
   "metadata": {},
   "outputs": [],
   "source": [
    "def modelToUse(index):\n",
    "    if index == 1:\n",
    "        return [1, 1, 50, 1]\n",
    "    else:\n",
    "        return [1, 1, 100, 4]\n",
    "\n",
    "lote, paso, epocas, dense = modelToUse(1)\n",
    "model = createModel(lote, paso, dense=dense)\n",
    "\n",
    "lote2, paso2, epocas2, dense2 = modelToUse(2)\n",
    "model2 = createModel(lote2, paso2, dense=dense2)"
   ]
  },
  {
   "cell_type": "markdown",
   "metadata": {},
   "source": [
    "### Entrenando el modelo"
   ]
  },
  {
   "cell_type": "code",
   "execution_count": null,
   "metadata": {},
   "outputs": [],
   "source": [
    "history= model.fit(\n",
    "    x = x_train,\n",
    "    y = y_train,\n",
    "    batch_size = lote,\n",
    "    epochs = epocas,\n",
    "    shuffle = False,\n",
    "    verbose=1\n",
    ")\n",
    "\n",
    "history2= model2.fit(\n",
    "    x = x_train,\n",
    "    y = y_train,\n",
    "    batch_size = lote2,\n",
    "    epochs = epocas2,\n",
    "    shuffle = False,\n",
    "    verbose=1\n",
    ")"
   ]
  },
  {
   "cell_type": "markdown",
   "metadata": {},
   "source": [
    "El modelo 1 parece estancarse en la epoca 40"
   ]
  },
  {
   "cell_type": "markdown",
   "metadata": {},
   "source": [
    "El modelo 2 parece estancarse en la epoca 88"
   ]
  },
  {
   "cell_type": "markdown",
   "metadata": {},
   "source": [
    "### Prediccion"
   ]
  },
  {
   "cell_type": "code",
   "execution_count": null,
   "metadata": {},
   "outputs": [],
   "source": [
    "def prediccion_fun(data,modelo, batch_size,scaler,dif=False,dif_cant=1, Series=None, n=1):\n",
    "    prediccion = [0]* (len(data))\n",
    "    i=0\n",
    "    for X in data:\n",
    "        X = np.reshape(X,(1,1,1))\n",
    "        yhat = modelo.predict(X, batch_size=batch_size,verbose=0)\n",
    "        # invert scaling\n",
    "        yhat = scaler.inverse_transform(yhat)\n",
    "        if dif:\n",
    "             # invert differencing\n",
    "            yhat  = yhat + Series[(n+dif_cant*i)]\n",
    "        # store\n",
    "        prediccion[i]=yhat[0][0]\n",
    "        i = i+1\n",
    "    return prediccion"
   ]
  },
  {
   "cell_type": "code",
   "execution_count": null,
   "metadata": {},
   "outputs": [],
   "source": [
    "prediccion_val = []\n",
    "\n",
    "prediccion_test = prediccion_fun(x_test,model, 1,scaler,dif=True,dif_cant=1, Series = indexed_df.values , n=252)\n",
    "prediccion_test_2 = prediccion_fun(x_test,model2, 1,scaler,dif=True,dif_cant=1, Series = indexed_df.values , n=252)"
   ]
  },
  {
   "cell_type": "code",
   "execution_count": null,
   "metadata": {},
   "outputs": [],
   "source": [
    "test"
   ]
  },
  {
   "cell_type": "code",
   "execution_count": null,
   "metadata": {},
   "outputs": [],
   "source": [
    "len(prediccion_test)"
   ]
  },
  {
   "cell_type": "code",
   "execution_count": null,
   "metadata": {},
   "outputs": [],
   "source": [
    "df_test = pd.DataFrame(prediccion_test,index=test_regular_indexed[1:].index)\n",
    "df_test_2 = pd.DataFrame(prediccion_test_2,index=test_regular_indexed[1:].index)\n",
    "\n",
    "\n",
    "plt.plot(indexed_df)\n",
    "plt.plot(df_test)\n",
    "plt.plot(df_test_2)\n",
    "\n"
   ]
  },
  {
   "cell_type": "markdown",
   "metadata": {},
   "source": [
    "# Comparando modelos"
   ]
  },
  {
   "cell_type": "code",
   "execution_count": null,
   "metadata": {},
   "outputs": [],
   "source": [
    "test_log = np.log(test_regular_indexed[label_regular])\n",
    "\n",
    "arima_rmse_error = rmse(test_log, arimaPred['mean'])\n",
    "arima_mse_error = arima_rmse_error**2\n",
    "mean_value = train_regular_log.mean()\n",
    "\n",
    "print(f'MSE Error: {arima_mse_error}\\nRMSE Error: {arima_rmse_error}\\nMean: {mean_value}')"
   ]
  },
  {
   "cell_type": "code",
   "execution_count": null,
   "metadata": {},
   "outputs": [],
   "source": [
    "test_to_compare_log = np.log(df_test.astype(float))\n",
    "lstm_rmse_error = rmse(test_to_compare_log[0], test_log[1:])\n",
    "\n",
    "lstm_mse_error = lstm_rmse_error**2\n",
    "mean_value = train_regular_log.mean()\n",
    "\n",
    "print(f'MSE Error: {lstm_mse_error}\\nRMSE Error: {lstm_rmse_error}\\nMean: {mean_value}')"
   ]
  },
  {
   "cell_type": "code",
   "execution_count": null,
   "metadata": {},
   "outputs": [],
   "source": [
    "test_to_compare_log_2 = np.log(df_test_2.astype(float))\n",
    "lstm_rmse_error_2 = rmse(test_to_compare_log_2[0], test_log[1:])\n",
    "\n",
    "lstm_mse_error_2 = lstm_rmse_error_2**2\n",
    "mean_value = train_regular_log.mean()\n",
    "\n",
    "print(f'MSE Error: {lstm_mse_error}\\nRMSE Error: {lstm_mse_error_2}\\nMean: {mean_value}')"
   ]
  },
  {
   "cell_type": "code",
   "execution_count": null,
   "metadata": {},
   "outputs": [],
   "source": [
    "rmse_errors = [arima_rmse_error, lstm_rmse_error, lstm_mse_error_2]\n",
    "mse_errors = [arima_mse_error, lstm_mse_error, lstm_mse_error_2]\n",
    "errors = pd.DataFrame({\"Models\" : [\"ARIMA\", \"LSTM\", \"LSTM 2\"],\"RMSE Errors\" : rmse_errors, \"MSE Errors\" : mse_errors})\n",
    "plt.figure(figsize=(16,9))\n",
    "plt.plot_date(test_log.index, test_log, linestyle=\"-\")\n",
    "plt.plot_date(arimaPred.index, arimaPred['mean'], linestyle=\"-.\")\n",
    "plt.plot_date(test_to_compare_log.index, test_to_compare_log[0], linestyle=\"--\")\n",
    "plt.plot_date(test_to_compare_log_2.index, test_to_compare_log_2[0], linestyle=\"---\")\n",
    "plt.legend()\n",
    "plt.show()"
   ]
  },
  {
   "cell_type": "code",
   "execution_count": null,
   "metadata": {},
   "outputs": [],
   "source": [
    "print(f\"Mean: {train_regular_log.mean()}\")\n",
    "errors"
   ]
  }
 ],
 "metadata": {
  "kernelspec": {
   "display_name": "Python 3.7.0 64-bit",
   "language": "python",
   "name": "python3"
  },
  "language_info": {
   "codemirror_mode": {
    "name": "ipython",
    "version": 3
   },
   "file_extension": ".py",
   "mimetype": "text/x-python",
   "name": "python",
   "nbconvert_exporter": "python",
   "pygments_lexer": "ipython3",
   "version": "3.7.0"
  },
  "orig_nbformat": 4,
  "vscode": {
   "interpreter": {
    "hash": "8fa13260b2ad5da8a92d4362f230c03eee7b3dfd5b47a73cfd4853277a201fcb"
   }
  }
 },
 "nbformat": 4,
 "nbformat_minor": 2
}
